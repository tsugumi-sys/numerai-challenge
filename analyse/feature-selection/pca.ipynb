{
 "cells": [
  {
   "cell_type": "code",
   "execution_count": 1,
   "id": "b35d2a92-362c-43d8-8f06-6a7c530f7ba1",
   "metadata": {},
   "outputs": [],
   "source": [
    "import pandas as pd\n",
    "import numpy as np\n",
    "import seaborn as sns\n",
    "import matplotlib.pyplot as plt\n",
    "from sklearn.preprocessing import LabelEncoder\n",
    "\n",
    "# laod Data\n",
    "training_data = pd.read_csv('../../data/numerai_training_data.csv', index_col='id')\n",
    "# sampling\n",
    "sampling_data = training_data.copy().sample(frac=0.3, random_state=1)\n",
    "feature_names = [f for f in training_data.columns if \"feature\" in f]\n",
    "X = sampling_data[feature_names]\n",
    "y = sampling_data[\"target\"]\n",
    "label_encoder = LabelEncoder()\n",
    "label_encoder.fit([0, 0.25, 0.5, 0.75, 1])\n",
    "X = X.copy()\n",
    "y = y.copy()\n",
    "y = label_encoder.transform(y)\n",
    "for col in X.columns:\n",
    "    X[col] = label_encoder.transform(X[col])"
   ]
  },
  {
   "cell_type": "code",
   "execution_count": 4,
   "id": "ea48878e-b587-4ecb-8fe3-c511dac60d49",
   "metadata": {},
   "outputs": [
    {
     "name": "stdout",
     "output_type": "stream",
     "text": [
      "37 23 46\n"
     ]
    }
   ],
   "source": [
    "# Get Selected Features\n",
    "model_based_features = pd.read_csv('./model_based_selection/selected.csv', index_col=0)\n",
    "mi_based_features = pd.read_csv('./mutual_info/selected.csv', index_col=0)\n",
    "features_df = pd.concat([model_based_features, mi_based_features]).drop_duplicates()\n",
    "print(len(model_based_features), len(mi_based_features), len(features_df))"
   ]
  },
  {
   "cell_type": "code",
   "execution_count": 2,
   "id": "dbf8d73e-244c-4192-8358-e7b34afa4119",
   "metadata": {},
   "outputs": [
    {
     "data": {
      "text/plain": [
       "['apple', 'orange', 'grape', 'pinapel', 'orange', 'banana']"
      ]
     },
     "execution_count": 2,
     "metadata": {},
     "output_type": "execute_result"
    }
   ],
   "source": [
    "a = ['apple', 'orange', 'grape']\n",
    "b = ['pinapel', 'orange', 'banana']\n",
    "a + b"
   ]
  },
  {
   "cell_type": "code",
   "execution_count": null,
   "id": "771c430b-c8f0-4751-ae93-358cc3e866f6",
   "metadata": {},
   "outputs": [],
   "source": []
  }
 ],
 "metadata": {
  "kernelspec": {
   "display_name": "Python 3",
   "language": "python",
   "name": "python3"
  },
  "language_info": {
   "codemirror_mode": {
    "name": "ipython",
    "version": 3
   },
   "file_extension": ".py",
   "mimetype": "text/x-python",
   "name": "python",
   "nbconvert_exporter": "python",
   "pygments_lexer": "ipython3",
   "version": "3.8.8"
  }
 },
 "nbformat": 4,
 "nbformat_minor": 5
}
