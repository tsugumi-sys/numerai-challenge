{
 "cells": [
  {
   "cell_type": "code",
   "execution_count": 7,
   "id": "30b34c0f-eb72-4bfe-8457-5f983966fcd7",
   "metadata": {},
   "outputs": [
    {
     "data": {
      "text/plain": [
       "(0, 0)"
      ]
     },
     "execution_count": 7,
     "metadata": {},
     "output_type": "execute_result"
    }
   ],
   "source": [
    "import pandas as pd\n",
    "import numpy as np\n",
    "import matplotlib.pyplot as plt\n",
    "import seaborn as sns\n",
    "\n",
    "training_data = pd.read_csv('../../data/numerai_training_data.csv', index_col='id')\n",
    "# sampling\n",
    "sampling_data = training_data.copy().sample(frac=0.3, random_state=1)\n",
    "feature_names = [f for f in training_data.columns if \"feature\" in f]\n",
    "X = sampling_data[feature_names]\n",
    "y = sampling_data[\"target\"]\n",
    "X.isna().sum().sum(), y.isna().sum().sum()"
   ]
  },
  {
   "cell_type": "code",
   "execution_count": 8,
   "id": "bc0f763f-96d0-4e1a-88df-9c0c780d449c",
   "metadata": {},
   "outputs": [
    {
     "data": {
      "text/html": [
       "<div>\n",
       "<style scoped>\n",
       "    .dataframe tbody tr th:only-of-type {\n",
       "        vertical-align: middle;\n",
       "    }\n",
       "\n",
       "    .dataframe tbody tr th {\n",
       "        vertical-align: top;\n",
       "    }\n",
       "\n",
       "    .dataframe thead th {\n",
       "        text-align: right;\n",
       "    }\n",
       "</style>\n",
       "<table border=\"1\" class=\"dataframe\">\n",
       "  <thead>\n",
       "    <tr style=\"text-align: right;\">\n",
       "      <th></th>\n",
       "      <th>feature_intelligence1</th>\n",
       "      <th>feature_intelligence2</th>\n",
       "      <th>feature_intelligence3</th>\n",
       "      <th>feature_intelligence4</th>\n",
       "      <th>feature_intelligence5</th>\n",
       "      <th>feature_intelligence6</th>\n",
       "      <th>feature_intelligence7</th>\n",
       "      <th>feature_intelligence8</th>\n",
       "      <th>feature_intelligence9</th>\n",
       "      <th>feature_intelligence10</th>\n",
       "      <th>...</th>\n",
       "      <th>feature_wisdom37</th>\n",
       "      <th>feature_wisdom38</th>\n",
       "      <th>feature_wisdom39</th>\n",
       "      <th>feature_wisdom40</th>\n",
       "      <th>feature_wisdom41</th>\n",
       "      <th>feature_wisdom42</th>\n",
       "      <th>feature_wisdom43</th>\n",
       "      <th>feature_wisdom44</th>\n",
       "      <th>feature_wisdom45</th>\n",
       "      <th>feature_wisdom46</th>\n",
       "    </tr>\n",
       "  </thead>\n",
       "  <tbody>\n",
       "    <tr>\n",
       "      <th>count</th>\n",
       "      <td>150542.000000</td>\n",
       "      <td>150542.000000</td>\n",
       "      <td>150542.000000</td>\n",
       "      <td>150542.000000</td>\n",
       "      <td>150542.000000</td>\n",
       "      <td>150542.000000</td>\n",
       "      <td>150542.000000</td>\n",
       "      <td>150542.000000</td>\n",
       "      <td>150542.000000</td>\n",
       "      <td>150542.000000</td>\n",
       "      <td>...</td>\n",
       "      <td>150542.000000</td>\n",
       "      <td>150542.000000</td>\n",
       "      <td>150542.000000</td>\n",
       "      <td>150542.000000</td>\n",
       "      <td>150542.000000</td>\n",
       "      <td>150542.000000</td>\n",
       "      <td>150542.000000</td>\n",
       "      <td>150542.000000</td>\n",
       "      <td>150542.000000</td>\n",
       "      <td>150542.000000</td>\n",
       "    </tr>\n",
       "    <tr>\n",
       "      <th>mean</th>\n",
       "      <td>2.003992</td>\n",
       "      <td>2.003301</td>\n",
       "      <td>2.002604</td>\n",
       "      <td>2.001754</td>\n",
       "      <td>1.999920</td>\n",
       "      <td>2.000970</td>\n",
       "      <td>2.000897</td>\n",
       "      <td>2.002704</td>\n",
       "      <td>1.997994</td>\n",
       "      <td>1.998240</td>\n",
       "      <td>...</td>\n",
       "      <td>1.998652</td>\n",
       "      <td>1.997323</td>\n",
       "      <td>1.997675</td>\n",
       "      <td>2.002066</td>\n",
       "      <td>2.002385</td>\n",
       "      <td>1.998897</td>\n",
       "      <td>2.002816</td>\n",
       "      <td>1.999542</td>\n",
       "      <td>2.003786</td>\n",
       "      <td>2.002179</td>\n",
       "    </tr>\n",
       "    <tr>\n",
       "      <th>std</th>\n",
       "      <td>1.415548</td>\n",
       "      <td>1.415386</td>\n",
       "      <td>1.415155</td>\n",
       "      <td>1.417726</td>\n",
       "      <td>1.413551</td>\n",
       "      <td>1.415354</td>\n",
       "      <td>1.416876</td>\n",
       "      <td>1.417929</td>\n",
       "      <td>1.407205</td>\n",
       "      <td>1.407595</td>\n",
       "      <td>...</td>\n",
       "      <td>1.412693</td>\n",
       "      <td>1.412916</td>\n",
       "      <td>1.413747</td>\n",
       "      <td>1.402820</td>\n",
       "      <td>1.402881</td>\n",
       "      <td>1.407914</td>\n",
       "      <td>1.412519</td>\n",
       "      <td>1.402898</td>\n",
       "      <td>1.390353</td>\n",
       "      <td>1.412967</td>\n",
       "    </tr>\n",
       "    <tr>\n",
       "      <th>min</th>\n",
       "      <td>0.000000</td>\n",
       "      <td>0.000000</td>\n",
       "      <td>0.000000</td>\n",
       "      <td>0.000000</td>\n",
       "      <td>0.000000</td>\n",
       "      <td>0.000000</td>\n",
       "      <td>0.000000</td>\n",
       "      <td>0.000000</td>\n",
       "      <td>0.000000</td>\n",
       "      <td>0.000000</td>\n",
       "      <td>...</td>\n",
       "      <td>0.000000</td>\n",
       "      <td>0.000000</td>\n",
       "      <td>0.000000</td>\n",
       "      <td>0.000000</td>\n",
       "      <td>0.000000</td>\n",
       "      <td>0.000000</td>\n",
       "      <td>0.000000</td>\n",
       "      <td>0.000000</td>\n",
       "      <td>0.000000</td>\n",
       "      <td>0.000000</td>\n",
       "    </tr>\n",
       "    <tr>\n",
       "      <th>25%</th>\n",
       "      <td>1.000000</td>\n",
       "      <td>1.000000</td>\n",
       "      <td>1.000000</td>\n",
       "      <td>1.000000</td>\n",
       "      <td>1.000000</td>\n",
       "      <td>1.000000</td>\n",
       "      <td>1.000000</td>\n",
       "      <td>1.000000</td>\n",
       "      <td>1.000000</td>\n",
       "      <td>1.000000</td>\n",
       "      <td>...</td>\n",
       "      <td>1.000000</td>\n",
       "      <td>1.000000</td>\n",
       "      <td>1.000000</td>\n",
       "      <td>1.000000</td>\n",
       "      <td>1.000000</td>\n",
       "      <td>1.000000</td>\n",
       "      <td>1.000000</td>\n",
       "      <td>1.000000</td>\n",
       "      <td>1.000000</td>\n",
       "      <td>1.000000</td>\n",
       "    </tr>\n",
       "    <tr>\n",
       "      <th>50%</th>\n",
       "      <td>2.000000</td>\n",
       "      <td>2.000000</td>\n",
       "      <td>2.000000</td>\n",
       "      <td>2.000000</td>\n",
       "      <td>2.000000</td>\n",
       "      <td>2.000000</td>\n",
       "      <td>2.000000</td>\n",
       "      <td>2.000000</td>\n",
       "      <td>2.000000</td>\n",
       "      <td>2.000000</td>\n",
       "      <td>...</td>\n",
       "      <td>2.000000</td>\n",
       "      <td>2.000000</td>\n",
       "      <td>2.000000</td>\n",
       "      <td>2.000000</td>\n",
       "      <td>2.000000</td>\n",
       "      <td>2.000000</td>\n",
       "      <td>2.000000</td>\n",
       "      <td>2.000000</td>\n",
       "      <td>2.000000</td>\n",
       "      <td>2.000000</td>\n",
       "    </tr>\n",
       "    <tr>\n",
       "      <th>75%</th>\n",
       "      <td>3.000000</td>\n",
       "      <td>3.000000</td>\n",
       "      <td>3.000000</td>\n",
       "      <td>3.000000</td>\n",
       "      <td>3.000000</td>\n",
       "      <td>3.000000</td>\n",
       "      <td>3.000000</td>\n",
       "      <td>3.000000</td>\n",
       "      <td>3.000000</td>\n",
       "      <td>3.000000</td>\n",
       "      <td>...</td>\n",
       "      <td>3.000000</td>\n",
       "      <td>3.000000</td>\n",
       "      <td>3.000000</td>\n",
       "      <td>3.000000</td>\n",
       "      <td>3.000000</td>\n",
       "      <td>3.000000</td>\n",
       "      <td>3.000000</td>\n",
       "      <td>3.000000</td>\n",
       "      <td>3.000000</td>\n",
       "      <td>3.000000</td>\n",
       "    </tr>\n",
       "    <tr>\n",
       "      <th>max</th>\n",
       "      <td>4.000000</td>\n",
       "      <td>4.000000</td>\n",
       "      <td>4.000000</td>\n",
       "      <td>4.000000</td>\n",
       "      <td>4.000000</td>\n",
       "      <td>4.000000</td>\n",
       "      <td>4.000000</td>\n",
       "      <td>4.000000</td>\n",
       "      <td>4.000000</td>\n",
       "      <td>4.000000</td>\n",
       "      <td>...</td>\n",
       "      <td>4.000000</td>\n",
       "      <td>4.000000</td>\n",
       "      <td>4.000000</td>\n",
       "      <td>4.000000</td>\n",
       "      <td>4.000000</td>\n",
       "      <td>4.000000</td>\n",
       "      <td>4.000000</td>\n",
       "      <td>4.000000</td>\n",
       "      <td>4.000000</td>\n",
       "      <td>4.000000</td>\n",
       "    </tr>\n",
       "  </tbody>\n",
       "</table>\n",
       "<p>8 rows × 310 columns</p>\n",
       "</div>"
      ],
      "text/plain": [
       "       feature_intelligence1  feature_intelligence2  feature_intelligence3  \\\n",
       "count          150542.000000          150542.000000          150542.000000   \n",
       "mean                2.003992               2.003301               2.002604   \n",
       "std                 1.415548               1.415386               1.415155   \n",
       "min                 0.000000               0.000000               0.000000   \n",
       "25%                 1.000000               1.000000               1.000000   \n",
       "50%                 2.000000               2.000000               2.000000   \n",
       "75%                 3.000000               3.000000               3.000000   \n",
       "max                 4.000000               4.000000               4.000000   \n",
       "\n",
       "       feature_intelligence4  feature_intelligence5  feature_intelligence6  \\\n",
       "count          150542.000000          150542.000000          150542.000000   \n",
       "mean                2.001754               1.999920               2.000970   \n",
       "std                 1.417726               1.413551               1.415354   \n",
       "min                 0.000000               0.000000               0.000000   \n",
       "25%                 1.000000               1.000000               1.000000   \n",
       "50%                 2.000000               2.000000               2.000000   \n",
       "75%                 3.000000               3.000000               3.000000   \n",
       "max                 4.000000               4.000000               4.000000   \n",
       "\n",
       "       feature_intelligence7  feature_intelligence8  feature_intelligence9  \\\n",
       "count          150542.000000          150542.000000          150542.000000   \n",
       "mean                2.000897               2.002704               1.997994   \n",
       "std                 1.416876               1.417929               1.407205   \n",
       "min                 0.000000               0.000000               0.000000   \n",
       "25%                 1.000000               1.000000               1.000000   \n",
       "50%                 2.000000               2.000000               2.000000   \n",
       "75%                 3.000000               3.000000               3.000000   \n",
       "max                 4.000000               4.000000               4.000000   \n",
       "\n",
       "       feature_intelligence10  ...  feature_wisdom37  feature_wisdom38  \\\n",
       "count           150542.000000  ...     150542.000000     150542.000000   \n",
       "mean                 1.998240  ...          1.998652          1.997323   \n",
       "std                  1.407595  ...          1.412693          1.412916   \n",
       "min                  0.000000  ...          0.000000          0.000000   \n",
       "25%                  1.000000  ...          1.000000          1.000000   \n",
       "50%                  2.000000  ...          2.000000          2.000000   \n",
       "75%                  3.000000  ...          3.000000          3.000000   \n",
       "max                  4.000000  ...          4.000000          4.000000   \n",
       "\n",
       "       feature_wisdom39  feature_wisdom40  feature_wisdom41  feature_wisdom42  \\\n",
       "count     150542.000000     150542.000000     150542.000000     150542.000000   \n",
       "mean           1.997675          2.002066          2.002385          1.998897   \n",
       "std            1.413747          1.402820          1.402881          1.407914   \n",
       "min            0.000000          0.000000          0.000000          0.000000   \n",
       "25%            1.000000          1.000000          1.000000          1.000000   \n",
       "50%            2.000000          2.000000          2.000000          2.000000   \n",
       "75%            3.000000          3.000000          3.000000          3.000000   \n",
       "max            4.000000          4.000000          4.000000          4.000000   \n",
       "\n",
       "       feature_wisdom43  feature_wisdom44  feature_wisdom45  feature_wisdom46  \n",
       "count     150542.000000     150542.000000     150542.000000     150542.000000  \n",
       "mean           2.002816          1.999542          2.003786          2.002179  \n",
       "std            1.412519          1.402898          1.390353          1.412967  \n",
       "min            0.000000          0.000000          0.000000          0.000000  \n",
       "25%            1.000000          1.000000          1.000000          1.000000  \n",
       "50%            2.000000          2.000000          2.000000          2.000000  \n",
       "75%            3.000000          3.000000          3.000000          3.000000  \n",
       "max            4.000000          4.000000          4.000000          4.000000  \n",
       "\n",
       "[8 rows x 310 columns]"
      ]
     },
     "execution_count": 8,
     "metadata": {},
     "output_type": "execute_result"
    }
   ],
   "source": [
    "from sklearn.preprocessing import LabelEncoder\n",
    "\n",
    "label_encoder = LabelEncoder()\n",
    "label_encoder.fit([0, 0.25, 0.5, 0.75, 1])\n",
    "X = X.copy()\n",
    "y = y.copy()\n",
    "y = label_encoder.transform(y)\n",
    "for col in X.columns:\n",
    "    X[col] = label_encoder.transform(X[col])\n",
    "X.describe()"
   ]
  },
  {
   "cell_type": "code",
   "execution_count": 50,
   "id": "0eeef8ff-8a47-43a5-985b-0a9ae0bd7fbe",
   "metadata": {},
   "outputs": [
    {
     "name": "stdout",
     "output_type": "stream",
     "text": [
      "intelligence 12\n",
      "wisdom 46\n",
      "charisma 86\n",
      "dexterity 14\n",
      "strength 38\n",
      "constitution 114\n"
     ]
    }
   ],
   "source": [
    "feature_groups = {\n",
    "    g: [c for c in feature_names if c.startswith(f\"feature_{g}\")]\n",
    "    for g in [\"intelligence\", \"wisdom\", \"charisma\", \"dexterity\", \"strength\", \"constitution\"]\n",
    "}\n",
    "group_names = list(feature_groups.keys())\n",
    "for i in group_names:\n",
    "    print(i, len(feature_groups[i]))"
   ]
  },
  {
   "cell_type": "code",
   "execution_count": 106,
   "id": "034c836d-14ca-47d5-beca-7e2b0f6f4315",
   "metadata": {},
   "outputs": [
    {
     "name": "stdout",
     "output_type": "stream",
     "text": [
      "************************************************** intelligence **************************************************\n",
      "------------------------------ DecisionTreeC ------------------------------\n",
      "------------------------------ RandomForestC ------------------------------\n",
      "------------------------------ AdaBoostC ------------------------------\n",
      "------------------------------ ExtraTreesC ------------------------------\n",
      "------------------------------ GradientBoostingC ------------------------------\n",
      "{'feature_intelligence1': 3, 'feature_intelligence2': 1, 'feature_intelligence3': 1, 'feature_intelligence4': 2, 'feature_intelligence5': 2, 'feature_intelligence6': 2, 'feature_intelligence7': 2, 'feature_intelligence8': 4, 'feature_intelligence9': 1, 'feature_intelligence10': 1, 'feature_intelligence11': 3, 'feature_intelligence12': 2}\n",
      "************************************************** wisdom **************************************************\n",
      "------------------------------ DecisionTreeC ------------------------------\n",
      "------------------------------ RandomForestC ------------------------------\n",
      "------------------------------ AdaBoostC ------------------------------\n",
      "------------------------------ ExtraTreesC ------------------------------\n",
      "------------------------------ GradientBoostingC ------------------------------\n",
      "{'feature_wisdom1': 2, 'feature_wisdom2': 0, 'feature_wisdom3': 3, 'feature_wisdom4': 0, 'feature_wisdom5': 0, 'feature_wisdom6': 2, 'feature_wisdom7': 1, 'feature_wisdom8': 4, 'feature_wisdom9': 3, 'feature_wisdom10': 3, 'feature_wisdom11': 3, 'feature_wisdom12': 0, 'feature_wisdom13': 5, 'feature_wisdom14': 5, 'feature_wisdom15': 1, 'feature_wisdom16': 0, 'feature_wisdom17': 2, 'feature_wisdom18': 2, 'feature_wisdom19': 3, 'feature_wisdom20': 0, 'feature_wisdom21': 2, 'feature_wisdom22': 3, 'feature_wisdom23': 2, 'feature_wisdom24': 2, 'feature_wisdom25': 2, 'feature_wisdom26': 2, 'feature_wisdom27': 1, 'feature_wisdom28': 2, 'feature_wisdom29': 3, 'feature_wisdom30': 0, 'feature_wisdom31': 0, 'feature_wisdom32': 4, 'feature_wisdom33': 2, 'feature_wisdom34': 3, 'feature_wisdom35': 3, 'feature_wisdom36': 2, 'feature_wisdom37': 4, 'feature_wisdom38': 0, 'feature_wisdom39': 1, 'feature_wisdom40': 2, 'feature_wisdom41': 0, 'feature_wisdom42': 1, 'feature_wisdom43': 3, 'feature_wisdom44': 2, 'feature_wisdom45': 0, 'feature_wisdom46': 3}\n",
      "************************************************** charisma **************************************************\n",
      "------------------------------ DecisionTreeC ------------------------------\n",
      "------------------------------ RandomForestC ------------------------------\n",
      "------------------------------ AdaBoostC ------------------------------\n",
      "------------------------------ ExtraTreesC ------------------------------\n",
      "------------------------------ GradientBoostingC ------------------------------\n",
      "{'feature_charisma1': 3, 'feature_charisma2': 3, 'feature_charisma3': 3, 'feature_charisma4': 3, 'feature_charisma5': 2, 'feature_charisma6': 1, 'feature_charisma7': 4, 'feature_charisma8': 3, 'feature_charisma9': 3, 'feature_charisma10': 2, 'feature_charisma11': 2, 'feature_charisma12': 2, 'feature_charisma13': 3, 'feature_charisma14': 0, 'feature_charisma15': 3, 'feature_charisma16': 0, 'feature_charisma17': 2, 'feature_charisma18': 0, 'feature_charisma19': 2, 'feature_charisma20': 2, 'feature_charisma21': 3, 'feature_charisma22': 0, 'feature_charisma23': 1, 'feature_charisma24': 2, 'feature_charisma25': 0, 'feature_charisma26': 2, 'feature_charisma27': 3, 'feature_charisma28': 3, 'feature_charisma29': 0, 'feature_charisma30': 2, 'feature_charisma31': 1, 'feature_charisma32': 4, 'feature_charisma33': 0, 'feature_charisma34': 4, 'feature_charisma35': 1, 'feature_charisma36': 5, 'feature_charisma37': 1, 'feature_charisma38': 2, 'feature_charisma39': 1, 'feature_charisma40': 2, 'feature_charisma41': 1, 'feature_charisma42': 0, 'feature_charisma43': 1, 'feature_charisma44': 4, 'feature_charisma45': 3, 'feature_charisma46': 2, 'feature_charisma47': 0, 'feature_charisma48': 2, 'feature_charisma49': 1, 'feature_charisma50': 3, 'feature_charisma51': 1, 'feature_charisma52': 0, 'feature_charisma53': 3, 'feature_charisma54': 1, 'feature_charisma55': 2, 'feature_charisma56': 0, 'feature_charisma57': 4, 'feature_charisma58': 4, 'feature_charisma59': 1, 'feature_charisma60': 0, 'feature_charisma61': 0, 'feature_charisma62': 0, 'feature_charisma63': 2, 'feature_charisma64': 3, 'feature_charisma65': 0, 'feature_charisma66': 2, 'feature_charisma67': 0, 'feature_charisma68': 0, 'feature_charisma69': 2, 'feature_charisma70': 1, 'feature_charisma71': 0, 'feature_charisma72': 3, 'feature_charisma73': 0, 'feature_charisma74': 4, 'feature_charisma75': 0, 'feature_charisma76': 2, 'feature_charisma77': 3, 'feature_charisma78': 3, 'feature_charisma79': 1, 'feature_charisma80': 3, 'feature_charisma81': 0, 'feature_charisma82': 1, 'feature_charisma83': 4, 'feature_charisma84': 2, 'feature_charisma85': 5, 'feature_charisma86': 0}\n",
      "************************************************** dexterity **************************************************\n",
      "------------------------------ DecisionTreeC ------------------------------\n",
      "------------------------------ RandomForestC ------------------------------\n",
      "------------------------------ AdaBoostC ------------------------------\n",
      "------------------------------ ExtraTreesC ------------------------------\n",
      "------------------------------ GradientBoostingC ------------------------------\n",
      "{'feature_dexterity1': 1, 'feature_dexterity2': 0, 'feature_dexterity3': 2, 'feature_dexterity4': 2, 'feature_dexterity5': 2, 'feature_dexterity6': 1, 'feature_dexterity7': 2, 'feature_dexterity8': 2, 'feature_dexterity9': 2, 'feature_dexterity10': 0, 'feature_dexterity11': 4, 'feature_dexterity12': 3, 'feature_dexterity13': 2, 'feature_dexterity14': 0}\n",
      "************************************************** strength **************************************************\n",
      "------------------------------ DecisionTreeC ------------------------------\n",
      "------------------------------ RandomForestC ------------------------------\n",
      "------------------------------ AdaBoostC ------------------------------\n",
      "------------------------------ ExtraTreesC ------------------------------\n",
      "------------------------------ GradientBoostingC ------------------------------\n",
      "{'feature_strength1': 0, 'feature_strength2': 3, 'feature_strength3': 3, 'feature_strength4': 1, 'feature_strength5': 2, 'feature_strength6': 1, 'feature_strength7': 0, 'feature_strength8': 3, 'feature_strength9': 2, 'feature_strength10': 5, 'feature_strength11': 0, 'feature_strength12': 4, 'feature_strength13': 4, 'feature_strength14': 3, 'feature_strength15': 1, 'feature_strength16': 2, 'feature_strength17': 1, 'feature_strength18': 2, 'feature_strength19': 4, 'feature_strength20': 0, 'feature_strength21': 0, 'feature_strength22': 3, 'feature_strength23': 1, 'feature_strength24': 2, 'feature_strength25': 2, 'feature_strength26': 0, 'feature_strength27': 2, 'feature_strength28': 4, 'feature_strength29': 4, 'feature_strength30': 3, 'feature_strength31': 5, 'feature_strength32': 4, 'feature_strength33': 0, 'feature_strength34': 4, 'feature_strength35': 2, 'feature_strength36': 4, 'feature_strength37': 2, 'feature_strength38': 0}\n",
      "************************************************** constitution **************************************************\n",
      "------------------------------ DecisionTreeC ------------------------------\n",
      "------------------------------ RandomForestC ------------------------------\n",
      "------------------------------ AdaBoostC ------------------------------\n",
      "------------------------------ ExtraTreesC ------------------------------\n",
      "------------------------------ GradientBoostingC ------------------------------\n",
      "{'feature_constitution1': 1, 'feature_constitution2': 5, 'feature_constitution3': 3, 'feature_constitution4': 2, 'feature_constitution5': 1, 'feature_constitution6': 1, 'feature_constitution7': 1, 'feature_constitution8': 2, 'feature_constitution9': 1, 'feature_constitution10': 0, 'feature_constitution11': 1, 'feature_constitution12': 4, 'feature_constitution13': 2, 'feature_constitution14': 1, 'feature_constitution15': 2, 'feature_constitution16': 4, 'feature_constitution17': 3, 'feature_constitution18': 1, 'feature_constitution19': 0, 'feature_constitution20': 0, 'feature_constitution21': 3, 'feature_constitution22': 0, 'feature_constitution23': 2, 'feature_constitution24': 1, 'feature_constitution25': 0, 'feature_constitution26': 0, 'feature_constitution27': 1, 'feature_constitution28': 2, 'feature_constitution29': 4, 'feature_constitution30': 0, 'feature_constitution31': 5, 'feature_constitution32': 1, 'feature_constitution33': 0, 'feature_constitution34': 1, 'feature_constitution35': 0, 'feature_constitution36': 1, 'feature_constitution37': 3, 'feature_constitution38': 1, 'feature_constitution39': 0, 'feature_constitution40': 1, 'feature_constitution41': 4, 'feature_constitution42': 2, 'feature_constitution43': 0, 'feature_constitution44': 1, 'feature_constitution45': 3, 'feature_constitution46': 1, 'feature_constitution47': 1, 'feature_constitution48': 0, 'feature_constitution49': 0, 'feature_constitution50': 3, 'feature_constitution51': 0, 'feature_constitution52': 3, 'feature_constitution53': 2, 'feature_constitution54': 4, 'feature_constitution55': 4, 'feature_constitution56': 3, 'feature_constitution57': 0, 'feature_constitution58': 3, 'feature_constitution59': 0, 'feature_constitution60': 1, 'feature_constitution61': 2, 'feature_constitution62': 1, 'feature_constitution63': 5, 'feature_constitution64': 0, 'feature_constitution65': 4, 'feature_constitution66': 2, 'feature_constitution67': 2, 'feature_constitution68': 3, 'feature_constitution69': 4, 'feature_constitution70': 2, 'feature_constitution71': 3, 'feature_constitution72': 2, 'feature_constitution73': 4, 'feature_constitution74': 0, 'feature_constitution75': 0, 'feature_constitution76': 3, 'feature_constitution77': 1, 'feature_constitution78': 0, 'feature_constitution79': 1, 'feature_constitution80': 1, 'feature_constitution81': 1, 'feature_constitution82': 1, 'feature_constitution83': 3, 'feature_constitution84': 3, 'feature_constitution85': 3, 'feature_constitution86': 3, 'feature_constitution87': 0, 'feature_constitution88': 3, 'feature_constitution89': 3, 'feature_constitution90': 4, 'feature_constitution91': 2, 'feature_constitution92': 1, 'feature_constitution93': 2, 'feature_constitution94': 3, 'feature_constitution95': 1, 'feature_constitution96': 1, 'feature_constitution97': 0, 'feature_constitution98': 0, 'feature_constitution99': 0, 'feature_constitution100': 2, 'feature_constitution101': 4, 'feature_constitution102': 1, 'feature_constitution103': 3, 'feature_constitution104': 5, 'feature_constitution105': 1, 'feature_constitution106': 2, 'feature_constitution107': 0, 'feature_constitution108': 4, 'feature_constitution109': 0, 'feature_constitution110': 2, 'feature_constitution111': 1, 'feature_constitution112': 1, 'feature_constitution113': 0, 'feature_constitution114': 2}\n"
     ]
    }
   ],
   "source": [
    "from sklearn.tree import DecisionTreeClassifier as DTC\n",
    "from sklearn.ensemble import RandomForestClassifier as RFC, AdaBoostClassifier as ABC, ExtraTreesClassifier as ETC, GradientBoostingClassifier as GBC\n",
    "from sklearn.feature_selection import SelectFromModel\n",
    "\n",
    "models = {\n",
    "    \"DecisionTreeC\": DTC(max_depth=15, random_state=1, max_leaf_nodes=50),\n",
    "    \"RandomForestC\": RFC(n_estimators=100, max_depth=15, random_state=1),\n",
    "    \"AdaBoostC\": ABC(n_estimators=100, random_state=1),\n",
    "    \"ExtraTreesC\": ETC(n_estimators=100, max_depth=15, random_state=1),\n",
    "    \"GradientBoostingC\": GBC(n_estimators=50, max_depth=15, random_state=1)\n",
    "}\n",
    "\n",
    "for key in group_names:\n",
    "    print('*'*50, key, '*'*50)\n",
    "    features = feature_groups[key]\n",
    "    feature_counts = dict.fromkeys(features, 0)\n",
    "    for model_name in models.keys():\n",
    "        print('-'*30, model_name, '-'*30)\n",
    "        m = models[model_name].fit(X[features], y)\n",
    "        f_names = np.array(features)\n",
    "        selector = SelectFromModel(estimator=m, prefit=True)\n",
    "        selected_features = f_names[selector.get_support()]\n",
    "        for f in selected_features:\n",
    "            feature_counts[f] += 1\n",
    "    print(feature_counts)\n",
    "    df = pd.DataFrame({\"COUNT\": feature_counts.values()}, index=feature_counts.keys())\n",
    "    df.to_csv(f'./model_based_selection/{key}.csv')"
   ]
  },
  {
   "cell_type": "code",
   "execution_count": 108,
   "id": "85406615-ecd5-42c4-9917-ec9e8879ed55",
   "metadata": {},
   "outputs": [
    {
     "name": "stdout",
     "output_type": "stream",
     "text": [
      "------------------------------ intelligence ------------------------------\n",
      "['feature_intelligence8']\n",
      "------------------------------ wisdom ------------------------------\n",
      "['feature_wisdom14', 'feature_wisdom13', 'feature_wisdom37', 'feature_wisdom8', 'feature_wisdom32']\n",
      "------------------------------ charisma ------------------------------\n",
      "['feature_charisma85', 'feature_charisma36', 'feature_charisma44', 'feature_charisma83', 'feature_charisma32', 'feature_charisma34', 'feature_charisma7', 'feature_charisma74', 'feature_charisma58', 'feature_charisma57']\n",
      "------------------------------ dexterity ------------------------------\n",
      "['feature_dexterity11']\n",
      "------------------------------ strength ------------------------------\n",
      "['feature_strength10', 'feature_strength31']\n",
      "------------------------------ constitution ------------------------------\n",
      "['feature_constitution2', 'feature_constitution31', 'feature_constitution104', 'feature_constitution63']\n"
     ]
    },
    {
     "data": {
      "image/png": "[encoded data removed]",
      "text/plain": [
       "<Figure size 432x288 with 1 Axes>"
      ]
     },
     "metadata": {
      "needs_background": "light"
     },
     "output_type": "display_data"
    },
    {
     "data": {
      "image/png": "[encoded data removed]",
      "text/plain": [
       "<Figure size 432x288 with 1 Axes>"
      ]
     },
     "metadata": {
      "needs_background": "light"
     },
     "output_type": "display_data"
    },
    {
     "data": {
      "image/png": "[encoded data removed]",
      "text/plain": [
       "<Figure size 432x288 with 1 Axes>"
      ]
     },
     "metadata": {
      "needs_background": "light"
     },
     "output_type": "display_data"
    },
    {
     "data": {
      "image/png": "[encoded data removed]",
      "text/plain": [
       "<Figure size 432x288 with 1 Axes>"
      ]
     },
     "metadata": {
      "needs_background": "light"
     },
     "output_type": "display_data"
    },
    {
     "data": {
      "image/png": "[encoded data removed]",
      "text/plain": [
       "<Figure size 432x288 with 1 Axes>"
      ]
     },
     "metadata": {
      "needs_background": "light"
     },
     "output_type": "display_data"
    },
    {
     "data": {
      "image/png": "[encoded data removed]",
      "text/plain": [
       "<Figure size 432x288 with 1 Axes>"
      ]
     },
     "metadata": {
      "needs_background": "light"
     },
     "output_type": "display_data"
    }
   ],
   "source": [
    "count = 0\n",
    "list_item =[]\n",
    "for key in group_names:\n",
    "    print('-'*30, key, '-'*30)\n",
    "    df = pd.read_csv(f'./model_based_selection/{key}.csv', index_col=0)\n",
    "    df = df.sort_values(by=\"COUNT\", ascending=False)\n",
    "    if key in [\"strength\", \"constitution\"]:\n",
    "        threshold = 5\n",
    "    else:\n",
    "        threshold = 4\n",
    "    print(df.loc[df[\"COUNT\"] >= threshold].index.tolist())\n",
    "    plt.figure(count)\n",
    "    sns.barplot(data=df, x=df.index, y=\"COUNT\")\n",
    "    count += 1\n",
    "    list_item += df.loc[df[\"COUNT\"] >= threshold].index.tolist()\n",
    "df = pd.DataFrame({'feature_name': list_item})\n",
    "df.to_csv('./model_based_selection/selected.csv')"
   ]
  },
  {
   "cell_type": "code",
   "execution_count": 2,
   "id": "a80ff1fb-6983-4439-848d-86625e32f0eb",
   "metadata": {},
   "outputs": [
    {
     "ename": "NameError",
     "evalue": "name 'X' is not defined",
     "output_type": "error",
     "traceback": [
      "\u001b[0;31m---------------------------------------------------------------------------\u001b[0m",
      "\u001b[0;31mNameError\u001b[0m                                 Traceback (most recent call last)",
      "\u001b[0;32m<ipython-input-2-cc1a929cc258>\u001b[0m in \u001b[0;36m<module>\u001b[0;34m\u001b[0m\n\u001b[0;32m----> 1\u001b[0;31m \u001b[0mX\u001b[0m\u001b[0;34m.\u001b[0m\u001b[0mdescribe\u001b[0m\u001b[0;34m(\u001b[0m\u001b[0;34m)\u001b[0m\u001b[0;34m\u001b[0m\u001b[0;34m\u001b[0m\u001b[0m\n\u001b[0m",
      "\u001b[0;31mNameError\u001b[0m: name 'X' is not defined"
     ]
    }
   ],
   "source": [
    "X.describe()"
   ]
  },
  {
   "cell_type": "code",
   "execution_count": 41,
   "id": "fc11c71e-3f5f-4b6e-9e7f-ee95097bc04d",
   "metadata": {},
   "outputs": [
    {
     "name": "stderr",
     "output_type": "stream",
     "text": [
      "/home/akira/anaconda3/envs/numerai-dev/lib/python3.8/site-packages/sklearn/utils/validation.py:67: FutureWarning: Pass threshold=0.00203305958285722 as keyword args. From version 0.25 passing these as positional arguments will result in an error\n",
      "  warnings.warn(\"Pass {} as keyword args. From version 0.25 \"\n"
     ]
    },
    {
     "name": "stdout",
     "output_type": "stream",
     "text": [
      "[ True  True False  True False False  True False False  True False False] 0.00203305958285722\n",
      "Features selected by SelectFromModel:  ['feature_intelligence1' 'feature_intelligence2' 'feature_intelligence4'\n",
      " 'feature_intelligence7' 'feature_intelligence10']\n",
      "Done in 0.713s\n"
     ]
    }
   ],
   "source": [
    "from sklearn.feature_selection import SelectFromModel\n",
    "from time import time\n",
    "\n",
    "threshold = np.sort(importance)[-5]\n",
    "tic = time()\n",
    "sfm = SelectFromModel(lasso, threshold).fit(X[feature_groups[group_names[0]]], y)\n",
    "toc = time()\n",
    "print(sfm.get_support(), threshold)\n",
    "print(\"Features selected by SelectFromModel: \",\n",
    "     f\"{f_names[sfm.get_support()]}\")\n",
    "print(f\"Done in {toc - tic:.3f}s\")"
   ]
  },
  {
   "cell_type": "code",
   "execution_count": 48,
   "id": "a8727387-0ad6-4462-9ab3-8e1cb147bcad",
   "metadata": {},
   "outputs": [
    {
     "name": "stdout",
     "output_type": "stream",
     "text": [
      "[0.00217797 0.00516234 0.00017995 0.00260114 0.         0.\n",
      " 0.00203306 0.         0.         0.00467902 0.00025039 0.        ]\n"
     ]
    }
   ],
   "source": [
    "print(importance)"
   ]
  },
  {
   "cell_type": "code",
   "execution_count": 47,
   "id": "17b8f55e-b639-45c5-8757-3bf71c4f416e",
   "metadata": {},
   "outputs": [
    {
     "data": {
      "text/plain": [
       "array(['feature_intelligence1', 'feature_intelligence2',\n",
       "       'feature_intelligence3', 'feature_intelligence4',\n",
       "       'feature_intelligence5', 'feature_intelligence6',\n",
       "       'feature_intelligence7', 'feature_intelligence8',\n",
       "       'feature_intelligence9', 'feature_intelligence10',\n",
       "       'feature_intelligence11', 'feature_intelligence12'], dtype='<U22')"
      ]
     },
     "execution_count": 47,
     "metadata": {},
     "output_type": "execute_result"
    }
   ],
   "source": [
    "f_names"
   ]
  },
  {
   "cell_type": "code",
   "execution_count": null,
   "id": "f0adb783-428d-45a0-bd3c-39c280dbc6a1",
   "metadata": {},
   "outputs": [],
   "source": []
  }
 ],
 "metadata": {
  "kernelspec": {
   "display_name": "Python 3",
   "language": "python",
   "name": "python3"
  },
  "language_info": {
   "codemirror_mode": {
    "name": "ipython",
    "version": 3
   },
   "file_extension": ".py",
   "mimetype": "text/x-python",
   "name": "python",
   "nbconvert_exporter": "python",
   "pygments_lexer": "ipython3",
   "version": "3.8.8"
  }
 },
 "nbformat": 4,
 "nbformat_minor": 5
}
